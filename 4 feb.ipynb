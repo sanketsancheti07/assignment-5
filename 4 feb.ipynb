{
 "cells": [
  {
   "cell_type": "markdown",
   "id": "69e754a7-7661-491d-83e9-47c946b8a097",
   "metadata": {},
   "source": [
    "Q.1"
   ]
  },
  {
   "cell_type": "code",
   "execution_count": 1,
   "id": "2b385982-be67-433e-8739-a38b13d41511",
   "metadata": {},
   "outputs": [],
   "source": [
    "l1 = [('Sachin Tendulkar', 34357), ('Ricky Ponting', 27483), ('Jack Kallis', 25534), ('Virat Kohli', 24936)]"
   ]
  },
  {
   "cell_type": "code",
   "execution_count": 2,
   "id": "a0348041-28c2-4403-b696-4a011a0b7cef",
   "metadata": {},
   "outputs": [],
   "source": [
    "l1_sorted = sorted(l1,key = lambda x:x[1])"
   ]
  },
  {
   "cell_type": "code",
   "execution_count": 3,
   "id": "dbf0bf1d-eceb-4c76-8a25-eea8960da36f",
   "metadata": {},
   "outputs": [
    {
     "data": {
      "text/plain": [
       "[('Virat Kohli', 24936),\n",
       " ('Jack Kallis', 25534),\n",
       " ('Ricky Ponting', 27483),\n",
       " ('Sachin Tendulkar', 34357)]"
      ]
     },
     "execution_count": 3,
     "metadata": {},
     "output_type": "execute_result"
    }
   ],
   "source": [
    "l1_sorted"
   ]
  },
  {
   "cell_type": "markdown",
   "id": "caa94c5a-cbd8-47a4-ac37-b0ff298b77d5",
   "metadata": {},
   "source": [
    "Q.2"
   ]
  },
  {
   "cell_type": "code",
   "execution_count": 6,
   "id": "ed366ce5-73c8-4ab8-9c01-e3c3e2249437",
   "metadata": {},
   "outputs": [],
   "source": [
    "l = [1, 2, 3, 4, 5, 6, 7, 8, 9, 10]"
   ]
  },
  {
   "cell_type": "code",
   "execution_count": 8,
   "id": "16728852-a0be-4ae5-86e6-99f1e1d3f1df",
   "metadata": {},
   "outputs": [
    {
     "data": {
      "text/plain": [
       "{1, 4, 9, 16, 25, 36, 49, 64, 81, 100}"
      ]
     },
     "execution_count": 8,
     "metadata": {},
     "output_type": "execute_result"
    }
   ],
   "source": [
    "set(map(lambda x:x**2,l))"
   ]
  },
  {
   "cell_type": "markdown",
   "id": "5360dd60-4ba6-418d-9a81-30d8febabf32",
   "metadata": {},
   "source": [
    "Q.3"
   ]
  },
  {
   "cell_type": "code",
   "execution_count": 9,
   "id": "0ad1e7a9-9d82-4db5-af6f-eb290904c934",
   "metadata": {},
   "outputs": [],
   "source": [
    "l = [1,2,3,4,5,6,7,8,9]"
   ]
  },
  {
   "cell_type": "code",
   "execution_count": 10,
   "id": "7b60a662-d06c-47af-a972-eea2fe9de028",
   "metadata": {},
   "outputs": [
    {
     "data": {
      "text/plain": [
       "(1, 2, 3, 4, 5, 6, 7, 8, 9)"
      ]
     },
     "execution_count": 10,
     "metadata": {},
     "output_type": "execute_result"
    }
   ],
   "source": [
    "tuple(map(lambda x:x,l))"
   ]
  },
  {
   "cell_type": "markdown",
   "id": "6bd40f8d-cc89-4f95-9701-72f45c0bbc24",
   "metadata": {},
   "source": [
    "Q.4"
   ]
  },
  {
   "cell_type": "code",
   "execution_count": 11,
   "id": "e22ad6a6-960d-4696-b38d-8e65475d57ac",
   "metadata": {},
   "outputs": [],
   "source": [
    "from functools import reduce"
   ]
  },
  {
   "cell_type": "code",
   "execution_count": 13,
   "id": "6269fafc-ca3f-423b-9375-7f8133cf6ca8",
   "metadata": {},
   "outputs": [],
   "source": [
    "l = []\n",
    "for i in range(1,26):\n",
    "    l.append(i)"
   ]
  },
  {
   "cell_type": "code",
   "execution_count": 14,
   "id": "2b6c4e89-5551-4420-bd77-fc7c14eab990",
   "metadata": {},
   "outputs": [
    {
     "data": {
      "text/plain": [
       "[1,\n",
       " 2,\n",
       " 3,\n",
       " 4,\n",
       " 5,\n",
       " 6,\n",
       " 7,\n",
       " 8,\n",
       " 9,\n",
       " 10,\n",
       " 11,\n",
       " 12,\n",
       " 13,\n",
       " 14,\n",
       " 15,\n",
       " 16,\n",
       " 17,\n",
       " 18,\n",
       " 19,\n",
       " 20,\n",
       " 21,\n",
       " 22,\n",
       " 23,\n",
       " 24,\n",
       " 25]"
      ]
     },
     "execution_count": 14,
     "metadata": {},
     "output_type": "execute_result"
    }
   ],
   "source": [
    "l"
   ]
  },
  {
   "cell_type": "code",
   "execution_count": 16,
   "id": "09b9411f-1553-45ab-afea-c20da5ceb731",
   "metadata": {},
   "outputs": [
    {
     "data": {
      "text/plain": [
       "15511210043330985984000000"
      ]
     },
     "execution_count": 16,
     "metadata": {},
     "output_type": "execute_result"
    }
   ],
   "source": [
    "reduce(lambda x,y:x*y,l)"
   ]
  },
  {
   "cell_type": "markdown",
   "id": "0d84ac95-f22b-479e-a35d-1eb221998712",
   "metadata": {},
   "source": [
    "Q.5"
   ]
  },
  {
   "cell_type": "code",
   "execution_count": 28,
   "id": "51322773-9225-4897-a36f-7986b5be3bfc",
   "metadata": {},
   "outputs": [],
   "source": [
    "l = [2, 3, 6, 9, 27, 60, 90, 120, 55, 46]"
   ]
  },
  {
   "cell_type": "code",
   "execution_count": 29,
   "id": "782055f1-d677-4571-a15c-9a77ce13ce38",
   "metadata": {},
   "outputs": [],
   "source": [
    "l2 =filter(lambda x: x%2==0,l)"
   ]
  },
  {
   "cell_type": "code",
   "execution_count": 30,
   "id": "b2c0ee57-0738-49ab-a429-ebcf0ca87cc6",
   "metadata": {},
   "outputs": [
    {
     "data": {
      "text/plain": [
       "{2, 6, 46, 60, 90, 120}"
      ]
     },
     "execution_count": 30,
     "metadata": {},
     "output_type": "execute_result"
    }
   ],
   "source": [
    "set(l2)"
   ]
  },
  {
   "cell_type": "code",
   "execution_count": 33,
   "id": "a388e42f-5cf0-48f5-818d-6714164bca70",
   "metadata": {},
   "outputs": [],
   "source": [
    "l3 = filter(lambda y: y%2!=0,l)"
   ]
  },
  {
   "cell_type": "code",
   "execution_count": 34,
   "id": "6314dd82-2c0d-437c-9d8a-36a8ae192137",
   "metadata": {},
   "outputs": [
    {
     "data": {
      "text/plain": [
       "{3, 9, 27, 55}"
      ]
     },
     "execution_count": 34,
     "metadata": {},
     "output_type": "execute_result"
    }
   ],
   "source": [
    "set(l3)"
   ]
  },
  {
   "cell_type": "markdown",
   "id": "085ce243-c321-467d-a348-54d7eaa89da5",
   "metadata": {},
   "source": [
    "Q.6"
   ]
  },
  {
   "cell_type": "code",
   "execution_count": 35,
   "id": "7e4733be-1755-4e40-93be-58e7dd3d2c81",
   "metadata": {},
   "outputs": [],
   "source": [
    "l = ['python', 'php', 'aba', 'radar', 'level']"
   ]
  },
  {
   "cell_type": "code",
   "execution_count": 36,
   "id": "7bf4cc68-6a35-4a64-b98d-66545d0a9e98",
   "metadata": {},
   "outputs": [],
   "source": [
    "def reverse():\n",
    "    for i in l:\n",
    "        return (i[::-1])"
   ]
  },
  {
   "cell_type": "code",
   "execution_count": 38,
   "id": "6b454f54-c19e-4685-8d47-e7c52a6853b0",
   "metadata": {},
   "outputs": [
    {
     "data": {
      "text/plain": [
       "{'aba', 'level', 'php', 'radar'}"
      ]
     },
     "execution_count": 38,
     "metadata": {},
     "output_type": "execute_result"
    }
   ],
   "source": [
    "set(filter(lambda s : s[::-1]==s,l))"
   ]
  },
  {
   "cell_type": "code",
   "execution_count": 39,
   "id": "e01e249e-b473-4e80-a9aa-b2dec6c2e86c",
   "metadata": {},
   "outputs": [
    {
     "name": "stdout",
     "output_type": "stream",
     "text": [
      "1\n",
      "2\n",
      "3\n",
      "4\n"
     ]
    }
   ],
   "source": [
    "i = 1\n",
    "while i<5:\n",
    "    print(i)\n",
    "    i +=1"
   ]
  },
  {
   "cell_type": "code",
   "execution_count": null,
   "id": "83111c74-88b7-48c6-af09-25420930b59e",
   "metadata": {},
   "outputs": [],
   "source": []
  }
 ],
 "metadata": {
  "kernelspec": {
   "display_name": "Python 3 (ipykernel)",
   "language": "python",
   "name": "python3"
  },
  "language_info": {
   "codemirror_mode": {
    "name": "ipython",
    "version": 3
   },
   "file_extension": ".py",
   "mimetype": "text/x-python",
   "name": "python",
   "nbconvert_exporter": "python",
   "pygments_lexer": "ipython3",
   "version": "3.10.8"
  }
 },
 "nbformat": 4,
 "nbformat_minor": 5
}
